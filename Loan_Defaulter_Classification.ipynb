{
 "cells": [
  {
   "cell_type": "code",
   "execution_count": 1,
   "metadata": {
    "execution": {
     "iopub.execute_input": "2021-09-21T04:09:19.177189Z",
     "iopub.status.busy": "2021-09-21T04:09:19.176785Z",
     "iopub.status.idle": "2021-09-21T04:09:20.321392Z",
     "shell.execute_reply": "2021-09-21T04:09:20.320408Z",
     "shell.execute_reply.started": "2021-09-21T04:09:19.177088Z"
    },
    "jupyter": {
     "outputs_hidden": false
    }
   },
   "outputs": [
    {
     "name": "stdout",
     "output_type": "stream",
     "text": [
      "Importing packages...\n"
     ]
    }
   ],
   "source": [
    "print('Importing packages...')\n",
    "from datetime import datetime\n",
    "import numpy as np\n",
    "import pandas as pd\n",
    "import xgboost\n",
    "import re\n",
    "from sklearn.metrics import accuracy_score\n",
    "from sklearn.metrics import auc\n",
    "from sklearn.metrics import roc_auc_score\n",
    "from sklearn.model_selection import train_test_split"
   ]
  },
  {
   "cell_type": "code",
   "execution_count": 2,
   "metadata": {
    "execution": {
     "iopub.execute_input": "2021-09-21T04:09:20.997285Z",
     "iopub.status.busy": "2021-09-21T04:09:20.996899Z",
     "iopub.status.idle": "2021-09-21T04:09:30.762924Z",
     "shell.execute_reply": "2021-09-21T04:09:30.761468Z",
     "shell.execute_reply.started": "2021-09-21T04:09:20.997248Z"
    },
    "jupyter": {
     "outputs_hidden": false
    }
   },
   "outputs": [
    {
     "name": "stdout",
     "output_type": "stream",
     "text": [
      "Reading data...\n"
     ]
    }
   ],
   "source": [
    "print('Reading data...')\n",
    "dfTest = pd.read_csv('../input/loan-defaulter-classification/test_indessa.csv')\n",
    "dfTrain = pd.read_csv('../input/loan-defaulter-classification/train_indessa.csv')\n",
    "\n",
    "dfTrain = dfTrain[['member_id', 'loan_amnt', 'funded_amnt', 'addr_state', 'funded_amnt_inv', 'sub_grade', 'term', 'desc', 'emp_length', 'int_rate', 'annual_inc', 'dti', 'delinq_2yrs', 'inq_last_6mths', 'mths_since_last_delinq', 'mths_since_last_record', 'open_acc', 'pub_rec', 'revol_bal', 'revol_util', 'total_acc','total_rec_int', 'total_rec_late_fee', 'recoveries', 'collection_recovery_fee', 'collections_12_mths_ex_med', 'mths_since_last_major_derog', 'last_week_pay', 'acc_now_delinq', 'tot_coll_amt', 'tot_cur_bal', 'total_rev_hi_lim', 'loan_status']]\n",
    "dfTest = dfTest[['member_id', 'loan_amnt', 'funded_amnt', 'addr_state', 'funded_amnt_inv', 'sub_grade', 'term', 'desc','emp_length', 'int_rate', 'annual_inc', 'dti', 'delinq_2yrs', 'inq_last_6mths', 'mths_since_last_delinq', 'mths_since_last_record', 'open_acc', 'pub_rec', 'revol_bal', 'revol_util', 'total_acc', 'total_rec_int', 'total_rec_late_fee', 'recoveries', 'collection_recovery_fee', 'collections_12_mths_ex_med', 'mths_since_last_major_derog', 'last_week_pay', 'acc_now_delinq', 'tot_coll_amt', 'tot_cur_bal', 'total_rev_hi_lim']]"
   ]
  },
  {
   "cell_type": "markdown",
   "metadata": {},
   "source": [
    "### Data Transformation"
   ]
  },
  {
   "cell_type": "code",
   "execution_count": 3,
   "metadata": {
    "execution": {
     "iopub.execute_input": "2021-09-21T04:09:30.767927Z",
     "iopub.status.busy": "2021-09-21T04:09:30.767640Z",
     "iopub.status.idle": "2021-09-21T04:09:31.552595Z",
     "shell.execute_reply": "2021-09-21T04:09:31.551399Z",
     "shell.execute_reply.started": "2021-09-21T04:09:30.767896Z"
    }
   },
   "outputs": [],
   "source": [
    "\n",
    "def get_last_week_pay(raw) :\n",
    "    try :\n",
    "        return int(re.sub(\"\\D\", \"\", raw))\n",
    "    except :\n",
    "        return -9999\n",
    "    \n",
    "from nltk.corpus import stopwords\n",
    "from nltk.tokenize import word_tokenize, sent_tokenize\n",
    "def clean_text(raw_text):\n",
    "    cleantext = np.nan\n",
    "    if type(raw_text) == str :\n",
    "        cleanr = re.compile('<.*?>')\n",
    "        cleantext = re.sub(cleanr, ' ', raw_text)\n",
    "        cleantext = cleantext.replace('>', '')\n",
    "        cleantext = ' '.join(cleantext.split())\n",
    "        \n",
    "        stop_words = set(stopwords.words(\"english\"))\n",
    "        words = word_tokenize(cleantext)\n",
    "        \n",
    "        filtered_sentence = []\n",
    "\n",
    "        for w in words:\n",
    "            if w not in stop_words:\n",
    "                filtered_sentence.append(w)\n",
    "        return len(filtered_sentence)\n",
    "    \n",
    "    else :\n",
    "        return 0 \n"
   ]
  },
  {
   "cell_type": "code",
   "execution_count": 4,
   "metadata": {
    "execution": {
     "iopub.execute_input": "2021-09-21T04:09:31.554622Z",
     "iopub.status.busy": "2021-09-21T04:09:31.554284Z",
     "iopub.status.idle": "2021-09-21T04:11:21.034782Z",
     "shell.execute_reply": "2021-09-21T04:11:21.033806Z",
     "shell.execute_reply.started": "2021-09-21T04:09:31.554577Z"
    },
    "jupyter": {
     "outputs_hidden": false
    }
   },
   "outputs": [
    {
     "name": "stdout",
     "output_type": "stream",
     "text": [
      "Transform done.\n"
     ]
    }
   ],
   "source": [
    "'''\n",
    "Data transformation/cleanup\n",
    "Strip off textual parts, represent values as numeric values\n",
    "it makes sense. Convert the datatype to numeric.\n",
    "'''\n",
    "\n",
    "dfTrain['term'] = dfTrain['term'].apply(lambda x : int(re.sub(\"\\D\", \"\", x)))\n",
    "dfTrain['last_week_pay'] = dfTrain['last_week_pay'].apply(get_last_week_pay)\n",
    "dfTrain['desc'] = dfTrain['desc'].apply(clean_text)\n",
    "dfTrain['emp_length'].replace('n/a', '0', inplace=True)\n",
    "dfTrain['emp_length'].replace(to_replace='\\+ years', value='', regex=True, inplace=True)\n",
    "dfTrain['emp_length'].replace(to_replace=' years', value='', regex=True, inplace=True)\n",
    "dfTrain['emp_length'].replace(to_replace='< 1 year', value='0', regex=True, inplace=True)\n",
    "dfTrain['emp_length'].replace(to_replace=' year', value='', regex=True, inplace=True)\n",
    "dfTest['term'] = dfTest['term'].apply(lambda x : int(re.sub(\"\\D\", \"\", x)))\n",
    "dfTest['last_week_pay'] = dfTest['last_week_pay'].apply(get_last_week_pay)\n",
    "dfTest['desc'] = dfTest['desc'].apply(clean_text)\n",
    "dfTest['emp_length'].replace(to_replace='\\+ years', value='', regex=True, inplace=True)\n",
    "dfTest['emp_length'].replace(to_replace=' years', value='', regex=True, inplace=True)\n",
    "dfTest['emp_length'].replace(to_replace='< 1 year', value='0', regex=True, inplace=True)\n",
    "dfTest['emp_length'].replace(to_replace=' year', value='', regex=True, inplace=True)\n",
    "\n",
    "dfTrain['term'] = pd.to_numeric(dfTrain['term'], errors='coerce')\n",
    "dfTest['term'] = pd.to_numeric(dfTest['term'], errors='coerce')\n",
    "\n",
    "dfTrain['last_week_pay'] = pd.to_numeric(dfTrain['last_week_pay'], errors='coerce')\n",
    "dfTest['last_week_pay'] = pd.to_numeric(dfTest['last_week_pay'], errors='coerce')\n",
    "\n",
    "dfTrain['emp_length'] = pd.to_numeric(dfTrain['emp_length'], errors='coerce')\n",
    "dfTest['emp_length'] = pd.to_numeric(dfTest['emp_length'], errors='coerce')\n",
    "\n",
    "dfTrain['sub_grade'] = pd.to_numeric(dfTrain['sub_grade'], errors='coerce')\n",
    "dfTest['sub_grade'] = pd.to_numeric(dfTest['sub_grade'], errors='coerce')\n",
    "\n",
    "print('Transform done.')"
   ]
  },
  {
   "cell_type": "code",
   "execution_count": 5,
   "metadata": {
    "execution": {
     "iopub.execute_input": "2021-09-21T04:11:21.038505Z",
     "iopub.status.busy": "2021-09-21T04:11:21.037832Z",
     "iopub.status.idle": "2021-09-21T04:11:21.603079Z",
     "shell.execute_reply": "2021-09-21T04:11:21.602149Z",
     "shell.execute_reply.started": "2021-09-21T04:11:21.038461Z"
    },
    "jupyter": {
     "outputs_hidden": false
    }
   },
   "outputs": [
    {
     "name": "stderr",
     "output_type": "stream",
     "text": [
      "/opt/conda/lib/python3.7/site-packages/ipykernel_launcher.py:21: SettingWithCopyWarning: \n",
      "A value is trying to be set on a copy of a slice from a DataFrame.\n",
      "Try using .loc[row_indexer,col_indexer] = value instead\n",
      "\n",
      "See the caveats in the documentation: https://pandas.pydata.org/pandas-docs/stable/user_guide/indexing.html#returning-a-view-versus-a-copy\n",
      "/opt/conda/lib/python3.7/site-packages/ipykernel_launcher.py:22: SettingWithCopyWarning: \n",
      "A value is trying to be set on a copy of a slice from a DataFrame.\n",
      "Try using .loc[row_indexer,col_indexer] = value instead\n",
      "\n",
      "See the caveats in the documentation: https://pandas.pydata.org/pandas-docs/stable/user_guide/indexing.html#returning-a-view-versus-a-copy\n",
      "/opt/conda/lib/python3.7/site-packages/ipykernel_launcher.py:28: SettingWithCopyWarning: \n",
      "A value is trying to be set on a copy of a slice from a DataFrame.\n",
      "Try using .loc[row_indexer,col_indexer] = value instead\n",
      "\n",
      "See the caveats in the documentation: https://pandas.pydata.org/pandas-docs/stable/user_guide/indexing.html#returning-a-view-versus-a-copy\n",
      "/opt/conda/lib/python3.7/site-packages/ipykernel_launcher.py:29: SettingWithCopyWarning: \n",
      "A value is trying to be set on a copy of a slice from a DataFrame.\n",
      "Try using .loc[row_indexer,col_indexer] = value instead\n",
      "\n",
      "See the caveats in the documentation: https://pandas.pydata.org/pandas-docs/stable/user_guide/indexing.html#returning-a-view-versus-a-copy\n",
      "/opt/conda/lib/python3.7/site-packages/pandas/core/indexing.py:1817: SettingWithCopyWarning: \n",
      "A value is trying to be set on a copy of a slice from a DataFrame.\n",
      "Try using .loc[row_indexer,col_indexer] = value instead\n",
      "\n",
      "See the caveats in the documentation: https://pandas.pydata.org/pandas-docs/stable/user_guide/indexing.html#returning-a-view-versus-a-copy\n",
      "  self._setitem_single_column(loc, value, pi)\n",
      "/opt/conda/lib/python3.7/site-packages/ipykernel_launcher.py:38: SettingWithCopyWarning: \n",
      "A value is trying to be set on a copy of a slice from a DataFrame.\n",
      "Try using .loc[row_indexer,col_indexer] = value instead\n",
      "\n",
      "See the caveats in the documentation: https://pandas.pydata.org/pandas-docs/stable/user_guide/indexing.html#returning-a-view-versus-a-copy\n",
      "/opt/conda/lib/python3.7/site-packages/ipykernel_launcher.py:39: SettingWithCopyWarning: \n",
      "A value is trying to be set on a copy of a slice from a DataFrame.\n",
      "Try using .loc[row_indexer,col_indexer] = value instead\n",
      "\n",
      "See the caveats in the documentation: https://pandas.pydata.org/pandas-docs/stable/user_guide/indexing.html#returning-a-view-versus-a-copy\n",
      "/opt/conda/lib/python3.7/site-packages/ipykernel_launcher.py:43: SettingWithCopyWarning: \n",
      "A value is trying to be set on a copy of a slice from a DataFrame.\n",
      "Try using .loc[row_indexer,col_indexer] = value instead\n",
      "\n",
      "See the caveats in the documentation: https://pandas.pydata.org/pandas-docs/stable/user_guide/indexing.html#returning-a-view-versus-a-copy\n",
      "/opt/conda/lib/python3.7/site-packages/ipykernel_launcher.py:44: SettingWithCopyWarning: \n",
      "A value is trying to be set on a copy of a slice from a DataFrame.\n",
      "Try using .loc[row_indexer,col_indexer] = value instead\n",
      "\n",
      "See the caveats in the documentation: https://pandas.pydata.org/pandas-docs/stable/user_guide/indexing.html#returning-a-view-versus-a-copy\n",
      "/opt/conda/lib/python3.7/site-packages/ipykernel_launcher.py:48: SettingWithCopyWarning: \n",
      "A value is trying to be set on a copy of a slice from a DataFrame.\n",
      "Try using .loc[row_indexer,col_indexer] = value instead\n",
      "\n",
      "See the caveats in the documentation: https://pandas.pydata.org/pandas-docs/stable/user_guide/indexing.html#returning-a-view-versus-a-copy\n"
     ]
    }
   ],
   "source": [
    "'''\n",
    "Feature Engineering\n",
    "'''\n",
    "\n",
    "# Separating the member_id column of test dataframe to help create a csv after predictions\n",
    "test_member_id = pd.DataFrame(dfTest['member_id'])\n",
    "\n",
    "\n",
    "# Creating target variable pandas series from train dataframe, this will be used by cross validation to calculate\n",
    "# the accuracy of the model\n",
    "train_target = pd.DataFrame(dfTrain['loan_status'])\n",
    "\n",
    "\n",
    "# It's good to create a copy of train and test dataframes. this way we can play around different features as we tune the\n",
    "# performance of the classifier with important features\n",
    "selected_cols = ['member_id', 'emp_length', 'loan_amnt', 'funded_amnt', 'funded_amnt_inv', 'sub_grade', 'int_rate', 'annual_inc', 'dti', 'mths_since_last_delinq', 'mths_since_last_record', 'open_acc', 'revol_bal', 'revol_util', 'total_acc', 'total_rec_int', 'total_rec_late_fee', 'mths_since_last_major_derog', 'last_week_pay', 'tot_cur_bal', 'total_rev_hi_lim', 'tot_coll_amt', 'recoveries', 'collection_recovery_fee', 'term', 'acc_now_delinq', 'collections_12_mths_ex_med']\n",
    "finalTrain = dfTrain[selected_cols]\n",
    "finalTest = dfTest[selected_cols]\n",
    "\n",
    "# How big the loan a person has taken with respect to his earnings, annual income to loan amount ratio\n",
    "finalTrain['loan_to_income'] = finalTrain['annual_inc']/finalTrain['funded_amnt_inv']\n",
    "finalTest['loan_to_income'] = finalTest['annual_inc']/finalTest['funded_amnt_inv']\n",
    "\n",
    "\n",
    "# All these attributes indicate that the repayment was not all hunky-dory. All the amounts caclulated are ratios \n",
    "# like, recovery to the loan amount. This column gives a magnitude of how much the repayment has gone off course \n",
    "# in terms of ratios.\n",
    "finalTrain['bad_state'] = finalTrain['acc_now_delinq'] + (finalTrain['total_rec_late_fee']/finalTrain['funded_amnt_inv']) + (finalTrain['recoveries']/finalTrain['funded_amnt_inv']) + (finalTrain['collection_recovery_fee']/finalTrain['funded_amnt_inv']) + (finalTrain['collections_12_mths_ex_med']/finalTrain['funded_amnt_inv'])\n",
    "finalTest['bad_state'] = finalTest['acc_now_delinq'] + (finalTest['total_rec_late_fee']/finalTest['funded_amnt_inv']) + (finalTest['recoveries']/finalTest['funded_amnt_inv']) + (finalTest['collection_recovery_fee']/finalTest['funded_amnt_inv']) + (finalTrain['collections_12_mths_ex_med']/finalTest['funded_amnt_inv'])\n",
    "\n",
    "# For the sake of this model, I have used just a boolean flag if things had gone bad, with this case I didn't see\n",
    "# a benifit of including above computations\n",
    "finalTrain.loc[finalTrain['bad_state'] > 0, 'bad_state'] = 1\n",
    "finalTest.loc[finalTest['bad_state'] > 0, 'bad_state'] = 1\n",
    "\n",
    "\n",
    "# Total number of available/unused 'credit lines'\n",
    "finalTrain['avl_lines'] = finalTrain['total_acc'] - finalTrain['open_acc']\n",
    "finalTest['avl_lines'] = finalTest['total_acc'] - finalTest['open_acc']\n",
    "\n",
    "\n",
    "# Interest paid so far\n",
    "finalTrain['int_paid'] = finalTrain['total_rec_int'] + finalTrain['total_rec_late_fee']\n",
    "finalTest['int_paid'] = finalTest['total_rec_int'] + finalTest['total_rec_late_fee']\n",
    "\n",
    "\n",
    "# Calculating EMIs paid (in terms of percent)\n",
    "finalTrain['emi_paid_progress_perc'] = ((finalTrain['last_week_pay']/(finalTrain['term']/12*52+1))*100)\n",
    "finalTest['emi_paid_progress_perc'] = ((finalTest['last_week_pay']/(finalTest['term']/12*52+1))*100)\n",
    "\n",
    "\n",
    "# Calculating total repayments received so far, in terms of EMI or recoveries after charge off\n",
    "finalTrain['total_repayment_progress'] = ((finalTrain['last_week_pay']/(finalTrain['term']/12*52+1))*100) + ((finalTrain['recoveries']/finalTrain['funded_amnt_inv']) * 100)\n",
    "finalTest['total_repayment_progress'] = ((finalTest['last_week_pay']/(finalTest['term']/12*52+1))*100) + ((finalTest['recoveries']/finalTest['funded_amnt_inv']) * 100)"
   ]
  },
  {
   "cell_type": "code",
   "execution_count": 6,
   "metadata": {
    "execution": {
     "iopub.execute_input": "2021-09-21T04:11:21.606074Z",
     "iopub.status.busy": "2021-09-21T04:11:21.604818Z",
     "iopub.status.idle": "2021-09-21T04:11:21.715516Z",
     "shell.execute_reply": "2021-09-21T04:11:21.714462Z",
     "shell.execute_reply.started": "2021-09-21T04:11:21.606021Z"
    }
   },
   "outputs": [
    {
     "name": "stdout",
     "output_type": "stream",
     "text": [
      "Null Values in each column:\n",
      "                     column name  Total missing  Percent missing\n",
      "0                     sub_grade         532428         1.000000\n",
      "1        mths_since_last_record         450305         0.845758\n",
      "2   mths_since_last_major_derog         399448         0.750239\n",
      "3        mths_since_last_delinq         272554         0.511908\n",
      "4                  tot_coll_amt          42004         0.078891\n",
      "5              total_rev_hi_lim          42004         0.078891\n",
      "6                   tot_cur_bal          42004         0.078891\n",
      "7                    emp_length          26891         0.050506\n",
      "8                    revol_util            287         0.000539\n",
      "9                     bad_state            228         0.000428\n",
      "10     total_repayment_progress            113         0.000212\n",
      "11   collections_12_mths_ex_med             95         0.000178\n",
      "12                    total_acc             16         0.000030\n",
      "13               acc_now_delinq             16         0.000030\n",
      "14                    avl_lines             16         0.000030\n",
      "15                     open_acc             16         0.000030\n",
      "17                   annual_inc              3         0.000006\n",
      "16               loan_to_income              3         0.000006\n",
      "18      collection_recovery_fee              0         0.000000\n",
      "19                         term              0         0.000000\n",
      "20                     int_paid              0         0.000000\n",
      "21       emi_paid_progress_perc              0         0.000000\n",
      "22                    member_id              0         0.000000\n",
      "23                   recoveries              0         0.000000\n",
      "24                last_week_pay              0         0.000000\n",
      "25                total_rec_int              0         0.000000\n",
      "26                    revol_bal              0         0.000000\n",
      "27                          dti              0         0.000000\n",
      "28                     int_rate              0         0.000000\n",
      "29              funded_amnt_inv              0         0.000000\n",
      "30                  funded_amnt              0         0.000000\n",
      "31                    loan_amnt              0         0.000000\n",
      "32           total_rec_late_fee              0         0.000000\n"
     ]
    }
   ],
   "source": [
    "#Null values in training dataset\n",
    "\n",
    "null= finalTrain.isnull().sum().sort_values(ascending=False)\n",
    "total =finalTrain.shape[0]\n",
    "percent_missing= (finalTrain.isnull().sum()/total).sort_values(ascending=False)\n",
    "\n",
    "missing_data= pd.concat([null, percent_missing], axis=1, keys=['Total missing', 'Percent missing'])\n",
    "\n",
    "missing_data.reset_index(inplace=True)\n",
    "missing_data= missing_data.rename(columns= { \"index\": \" column name\"})\n",
    " \n",
    "print (\"Null Values in each column:\\n\", missing_data.sort_values(by ='Total missing', ascending = False))"
   ]
  },
  {
   "cell_type": "code",
   "execution_count": 7,
   "metadata": {
    "execution": {
     "iopub.execute_input": "2021-09-21T04:11:21.717274Z",
     "iopub.status.busy": "2021-09-21T04:11:21.716978Z",
     "iopub.status.idle": "2021-09-21T04:11:21.793102Z",
     "shell.execute_reply": "2021-09-21T04:11:21.791972Z",
     "shell.execute_reply.started": "2021-09-21T04:11:21.717241Z"
    }
   },
   "outputs": [
    {
     "name": "stdout",
     "output_type": "stream",
     "text": [
      "Null Values in each column:\n",
      "                     column name  Total missing  Percent missing\n",
      "0                     sub_grade         354951         1.000000\n",
      "1        mths_since_last_record         300021         0.845246\n",
      "2   mths_since_last_major_derog         266228         0.750042\n",
      "3        mths_since_last_delinq         181758         0.512065\n",
      "4                  tot_coll_amt          28272         0.079650\n",
      "5              total_rev_hi_lim          28272         0.079650\n",
      "6                   tot_cur_bal          28272         0.079650\n",
      "7                    emp_length          17934         0.050525\n",
      "8                    revol_util            215         0.000606\n",
      "9                     bad_state            170         0.000479\n",
      "10     total_repayment_progress             84         0.000237\n",
      "11   collections_12_mths_ex_med             50         0.000141\n",
      "12                    total_acc             13         0.000037\n",
      "13               acc_now_delinq             13         0.000037\n",
      "14                    avl_lines             13         0.000037\n",
      "15                     open_acc             13         0.000037\n",
      "17                   annual_inc              1         0.000003\n",
      "16               loan_to_income              1         0.000003\n",
      "18      collection_recovery_fee              0         0.000000\n",
      "19                         term              0         0.000000\n",
      "20                     int_paid              0         0.000000\n",
      "21       emi_paid_progress_perc              0         0.000000\n",
      "22                    member_id              0         0.000000\n",
      "23                   recoveries              0         0.000000\n",
      "24                last_week_pay              0         0.000000\n",
      "25                total_rec_int              0         0.000000\n",
      "26                    revol_bal              0         0.000000\n",
      "27                          dti              0         0.000000\n",
      "28                     int_rate              0         0.000000\n",
      "29              funded_amnt_inv              0         0.000000\n",
      "30                  funded_amnt              0         0.000000\n",
      "31                    loan_amnt              0         0.000000\n",
      "32           total_rec_late_fee              0         0.000000\n"
     ]
    }
   ],
   "source": [
    "#Null values in training dataset\n",
    "\n",
    "null= finalTest.isnull().sum().sort_values(ascending=False)\n",
    "total =finalTest.shape[0]\n",
    "percent_missing= (finalTest.isnull().sum()/total).sort_values(ascending=False)\n",
    "\n",
    "missing_data= pd.concat([null, percent_missing], axis=1, keys=['Total missing', 'Percent missing'])\n",
    "\n",
    "missing_data.reset_index(inplace=True)\n",
    "missing_data= missing_data.rename(columns= { \"index\": \" column name\"})\n",
    " \n",
    "print (\"Null Values in each column:\\n\", missing_data.sort_values(by ='Total missing', ascending = False))"
   ]
  },
  {
   "cell_type": "code",
   "execution_count": 8,
   "metadata": {
    "execution": {
     "iopub.execute_input": "2021-09-21T04:11:21.794829Z",
     "iopub.status.busy": "2021-09-21T04:11:21.794554Z",
     "iopub.status.idle": "2021-09-21T04:11:21.803314Z",
     "shell.execute_reply": "2021-09-21T04:11:21.802005Z",
     "shell.execute_reply.started": "2021-09-21T04:11:21.794797Z"
    }
   },
   "outputs": [],
   "source": [
    "def fill_nulls(value):\n",
    "    cols_fill = ['mths_since_last_record','mths_since_last_major_derog',\n",
    "                 'mths_since_last_delinq','total_rev_hi_lim','tot_cur_bal',\n",
    "                 'tot_coll_amt','emp_length','revol_util','collections_12_mths_ex_med',\n",
    "                 'open_acc','total_acc','acc_now_delinq','avl_lines','loan_to_income',\n",
    "                 'annual_inc','bad_state','total_repayment_progress']\n",
    "    \n",
    "    if value == -9999:\n",
    "        for col in cols_fill:\n",
    "            finalTest.loc[finalTest[col].isnull(), col] = -9999\n",
    "    else : \n",
    "        for col in cols_fill:\n",
    "            finalTest.loc[finalTest[col].isnull(), col] = finalTrain[col].median()"
   ]
  },
  {
   "cell_type": "code",
   "execution_count": 9,
   "metadata": {
    "execution": {
     "iopub.execute_input": "2021-09-21T04:11:21.805112Z",
     "iopub.status.busy": "2021-09-21T04:11:21.804770Z",
     "iopub.status.idle": "2021-09-21T04:11:22.022595Z",
     "shell.execute_reply": "2021-09-21T04:11:22.021564Z",
     "shell.execute_reply.started": "2021-09-21T04:11:21.805078Z"
    }
   },
   "outputs": [],
   "source": [
    "fill_nulls(0)"
   ]
  },
  {
   "cell_type": "code",
   "execution_count": 10,
   "metadata": {
    "execution": {
     "iopub.execute_input": "2021-09-21T04:11:22.024967Z",
     "iopub.status.busy": "2021-09-21T04:11:22.024657Z",
     "iopub.status.idle": "2021-09-21T04:11:22.031893Z",
     "shell.execute_reply": "2021-09-21T04:11:22.031232Z",
     "shell.execute_reply.started": "2021-09-21T04:11:22.024916Z"
    }
   },
   "outputs": [],
   "source": [
    "def fill_nulls(value):\n",
    "    cols_fill = ['mths_since_last_record','mths_since_last_major_derog',\n",
    "                 'mths_since_last_delinq','total_rev_hi_lim','tot_cur_bal',\n",
    "                 'tot_coll_amt','emp_length','revol_util','collections_12_mths_ex_med',\n",
    "                 'open_acc','total_acc','acc_now_delinq','avl_lines','loan_to_income',\n",
    "                 'annual_inc','bad_state','total_repayment_progress']\n",
    "    if value == -9999:\n",
    "        for col in cols_fill:\n",
    "            finalTrain.loc[finalTrain[col].isnull(), col] = -9999\n",
    "    else : \n",
    "        for col in cols_fill:\n",
    "            finalTrain.loc[finalTrain[col].isnull(), col] = finalTrain[col].median()"
   ]
  },
  {
   "cell_type": "code",
   "execution_count": 11,
   "metadata": {
    "execution": {
     "iopub.execute_input": "2021-09-21T04:11:22.034375Z",
     "iopub.status.busy": "2021-09-21T04:11:22.034130Z",
     "iopub.status.idle": "2021-09-21T04:11:22.241084Z",
     "shell.execute_reply": "2021-09-21T04:11:22.240349Z",
     "shell.execute_reply.started": "2021-09-21T04:11:22.034348Z"
    }
   },
   "outputs": [],
   "source": [
    "fill_nulls(0)"
   ]
  },
  {
   "cell_type": "code",
   "execution_count": 12,
   "metadata": {
    "execution": {
     "iopub.execute_input": "2021-09-21T04:11:22.243192Z",
     "iopub.status.busy": "2021-09-21T04:11:22.242079Z",
     "iopub.status.idle": "2021-09-21T04:11:22.595595Z",
     "shell.execute_reply": "2021-09-21T04:11:22.594984Z",
     "shell.execute_reply.started": "2021-09-21T04:11:22.243154Z"
    }
   },
   "outputs": [],
   "source": [
    "finalTrain = finalTrain.replace((np.inf, -np.inf, np.nan), 0).reset_index(drop=True)"
   ]
  },
  {
   "cell_type": "code",
   "execution_count": 13,
   "metadata": {
    "execution": {
     "iopub.execute_input": "2021-09-21T04:11:22.597985Z",
     "iopub.status.busy": "2021-09-21T04:11:22.596725Z",
     "iopub.status.idle": "2021-09-21T04:11:23.317777Z",
     "shell.execute_reply": "2021-09-21T04:11:23.316373Z",
     "shell.execute_reply.started": "2021-09-21T04:11:22.597908Z"
    }
   },
   "outputs": [],
   "source": [
    "from sklearn.preprocessing import StandardScaler\n",
    "scaler = StandardScaler()\n",
    "x_trainScaled = scaler.fit_transform(finalTrain)\n"
   ]
  },
  {
   "cell_type": "code",
   "execution_count": 14,
   "metadata": {
    "execution": {
     "iopub.execute_input": "2021-09-21T04:11:23.319656Z",
     "iopub.status.busy": "2021-09-21T04:11:23.319371Z",
     "iopub.status.idle": "2021-09-21T04:11:23.922376Z",
     "shell.execute_reply": "2021-09-21T04:11:23.921379Z",
     "shell.execute_reply.started": "2021-09-21T04:11:23.319624Z"
    }
   },
   "outputs": [],
   "source": [
    "\n",
    "# Split train and cross validation sets\n",
    "X_train, X_test, y_train, y_test = train_test_split(np.array(finalTrain), np.array(train_target), test_size=0.30)\n",
    "eval_set=[(X_test, y_test)]"
   ]
  },
  {
   "cell_type": "code",
   "execution_count": 15,
   "metadata": {
    "execution": {
     "iopub.execute_input": "2021-09-21T04:11:23.924355Z",
     "iopub.status.busy": "2021-09-21T04:11:23.923909Z",
     "iopub.status.idle": "2021-09-21T04:11:23.931495Z",
     "shell.execute_reply": "2021-09-21T04:11:23.930571Z",
     "shell.execute_reply.started": "2021-09-21T04:11:23.924308Z"
    },
    "jupyter": {
     "outputs_hidden": false
    }
   },
   "outputs": [
    {
     "name": "stdout",
     "output_type": "stream",
     "text": [
      "Initializing xgboost.sklearn.XGBClassifier....\n"
     ]
    }
   ],
   "source": [
    "print('Initializing xgboost.sklearn.XGBClassifier....')\n",
    "\n",
    "\n",
    "clf = xgboost.sklearn.XGBClassifier(\n",
    "    objective=\"binary:logistic\", \n",
    "    learning_rate=0.09, \n",
    "    seed=9616, \n",
    "    max_depth=30, \n",
    "    gamma=10, \n",
    "    n_estimators=500)\n",
    "\n"
   ]
  },
  {
   "cell_type": "code",
   "execution_count": 16,
   "metadata": {
    "execution": {
     "iopub.execute_input": "2021-09-21T04:11:23.933077Z",
     "iopub.status.busy": "2021-09-21T04:11:23.932793Z",
     "iopub.status.idle": "2021-09-21T04:16:50.578360Z",
     "shell.execute_reply": "2021-09-21T04:16:50.575700Z",
     "shell.execute_reply.started": "2021-09-21T04:11:23.933045Z"
    }
   },
   "outputs": [
    {
     "name": "stdout",
     "output_type": "stream",
     "text": [
      "Training Started\n"
     ]
    },
    {
     "name": "stderr",
     "output_type": "stream",
     "text": [
      "/opt/conda/lib/python3.7/site-packages/xgboost/sklearn.py:1146: UserWarning: The use of label encoder in XGBClassifier is deprecated and will be removed in a future release. To remove this warning, do the following: 1) Pass option use_label_encoder=False when constructing XGBClassifier object; and 2) Encode your labels (y) as integers starting with 0, i.e. 0, 1, 2, ..., [num_class - 1].\n",
      "  warnings.warn(label_encoder_deprecation_msg, UserWarning)\n",
      "/opt/conda/lib/python3.7/site-packages/sklearn/utils/validation.py:72: DataConversionWarning: A column-vector y was passed when a 1d array was expected. Please change the shape of y to (n_samples, ), for example using ravel().\n",
      "  return f(**kwargs)\n"
     ]
    },
    {
     "name": "stdout",
     "output_type": "stream",
     "text": [
      "[0]\tvalidation_0-auc:0.96856\n",
      "[1]\tvalidation_0-auc:0.97034\n",
      "[2]\tvalidation_0-auc:0.97111\n",
      "[3]\tvalidation_0-auc:0.97209\n",
      "[4]\tvalidation_0-auc:0.97253\n",
      "[5]\tvalidation_0-auc:0.97265\n",
      "[6]\tvalidation_0-auc:0.97282\n",
      "[7]\tvalidation_0-auc:0.97299\n",
      "[8]\tvalidation_0-auc:0.97304\n",
      "[9]\tvalidation_0-auc:0.97324\n",
      "[10]\tvalidation_0-auc:0.97334\n",
      "[11]\tvalidation_0-auc:0.97346\n",
      "[12]\tvalidation_0-auc:0.97358\n",
      "[13]\tvalidation_0-auc:0.97373\n",
      "[14]\tvalidation_0-auc:0.97375\n",
      "[15]\tvalidation_0-auc:0.97383\n",
      "[16]\tvalidation_0-auc:0.97394\n",
      "[17]\tvalidation_0-auc:0.97417\n",
      "[18]\tvalidation_0-auc:0.97423\n",
      "[19]\tvalidation_0-auc:0.97428\n",
      "[20]\tvalidation_0-auc:0.97437\n",
      "[21]\tvalidation_0-auc:0.97443\n",
      "[22]\tvalidation_0-auc:0.97445\n",
      "[23]\tvalidation_0-auc:0.97449\n",
      "[24]\tvalidation_0-auc:0.97453\n",
      "[25]\tvalidation_0-auc:0.97454\n",
      "[26]\tvalidation_0-auc:0.97460\n",
      "[27]\tvalidation_0-auc:0.97465\n",
      "[28]\tvalidation_0-auc:0.97472\n",
      "[29]\tvalidation_0-auc:0.97475\n",
      "[30]\tvalidation_0-auc:0.97478\n",
      "[31]\tvalidation_0-auc:0.97484\n",
      "[32]\tvalidation_0-auc:0.97490\n",
      "[33]\tvalidation_0-auc:0.97494\n",
      "[34]\tvalidation_0-auc:0.97499\n",
      "[35]\tvalidation_0-auc:0.97502\n",
      "[36]\tvalidation_0-auc:0.97506\n",
      "[37]\tvalidation_0-auc:0.97511\n",
      "[38]\tvalidation_0-auc:0.97511\n",
      "[39]\tvalidation_0-auc:0.97521\n",
      "[40]\tvalidation_0-auc:0.97523\n",
      "[41]\tvalidation_0-auc:0.97528\n",
      "[42]\tvalidation_0-auc:0.97531\n",
      "[43]\tvalidation_0-auc:0.97536\n",
      "[44]\tvalidation_0-auc:0.97539\n",
      "[45]\tvalidation_0-auc:0.97543\n",
      "[46]\tvalidation_0-auc:0.97544\n",
      "[47]\tvalidation_0-auc:0.97550\n",
      "[48]\tvalidation_0-auc:0.97549\n",
      "[49]\tvalidation_0-auc:0.97551\n",
      "[50]\tvalidation_0-auc:0.97557\n",
      "[51]\tvalidation_0-auc:0.97563\n",
      "[52]\tvalidation_0-auc:0.97561\n",
      "[53]\tvalidation_0-auc:0.97564\n",
      "[54]\tvalidation_0-auc:0.97564\n",
      "[55]\tvalidation_0-auc:0.97568\n",
      "[56]\tvalidation_0-auc:0.97569\n",
      "[57]\tvalidation_0-auc:0.97571\n",
      "[58]\tvalidation_0-auc:0.97570\n",
      "[59]\tvalidation_0-auc:0.97574\n",
      "[60]\tvalidation_0-auc:0.97575\n",
      "[61]\tvalidation_0-auc:0.97580\n",
      "[62]\tvalidation_0-auc:0.97586\n",
      "[63]\tvalidation_0-auc:0.97582\n",
      "[64]\tvalidation_0-auc:0.97581\n",
      "[65]\tvalidation_0-auc:0.97579\n",
      "[66]\tvalidation_0-auc:0.97586\n",
      "[67]\tvalidation_0-auc:0.97586\n",
      "[68]\tvalidation_0-auc:0.97580\n",
      "[69]\tvalidation_0-auc:0.97579\n",
      "[70]\tvalidation_0-auc:0.97576\n",
      "[71]\tvalidation_0-auc:0.97578\n",
      "[72]\tvalidation_0-auc:0.97580\n",
      "[73]\tvalidation_0-auc:0.97583\n",
      "[74]\tvalidation_0-auc:0.97584\n",
      "[75]\tvalidation_0-auc:0.97585\n",
      "[76]\tvalidation_0-auc:0.97581\n",
      "[77]\tvalidation_0-auc:0.97582\n",
      "[78]\tvalidation_0-auc:0.97577\n",
      "[79]\tvalidation_0-auc:0.97581\n",
      "[80]\tvalidation_0-auc:0.97581\n",
      "[81]\tvalidation_0-auc:0.97581\n",
      "[82]\tvalidation_0-auc:0.97582\n"
     ]
    }
   ],
   "source": [
    "print(\"Training Started\")\n",
    "clf.fit(X_train, y_train, early_stopping_rounds=20, eval_metric=\"auc\", eval_set=eval_set, verbose=True)\n",
    "\n",
    "y_pred = clf.predict(X_test)\n",
    "accuracy = accuracy_score(np.array(y_test).flatten(), y_pred)\n",
    "\n",
    "\n"
   ]
  },
  {
   "cell_type": "code",
   "execution_count": 17,
   "metadata": {
    "execution": {
     "iopub.execute_input": "2021-09-21T04:16:50.584879Z",
     "iopub.status.busy": "2021-09-21T04:16:50.583158Z",
     "iopub.status.idle": "2021-09-21T04:16:50.638980Z",
     "shell.execute_reply": "2021-09-21T04:16:50.638157Z",
     "shell.execute_reply.started": "2021-09-21T04:16:50.584796Z"
    }
   },
   "outputs": [
    {
     "name": "stdout",
     "output_type": "stream",
     "text": [
      "Accuracy: 94.1344402081%\n",
      "ROC-AUC: 92.5528901415%\n"
     ]
    }
   ],
   "source": [
    "submission_file_name = \"Loan_Defaulter_submission\"\n",
    "print(\"Accuracy: %.10f%%\" % (accuracy * 100.0))\n",
    "submission_file_name = submission_file_name + (\"_Accuracy_%.6f\" % (accuracy * 100)) + '_'\n",
    "\n",
    "accuracy_per_roc_auc = roc_auc_score(np.array(y_test).flatten(), y_pred)\n",
    "print(\"ROC-AUC: %.10f%%\" % (accuracy_per_roc_auc * 100))\n",
    "submission_file_name = submission_file_name + (\"_ROC-AUC_%.6f\" % (accuracy_per_roc_auc * 100))\n",
    "\n"
   ]
  },
  {
   "cell_type": "markdown",
   "metadata": {},
   "source": [
    "### Final Submission"
   ]
  },
  {
   "cell_type": "code",
   "execution_count": 18,
   "metadata": {
    "execution": {
     "iopub.execute_input": "2021-09-21T04:16:50.640545Z",
     "iopub.status.busy": "2021-09-21T04:16:50.640317Z",
     "iopub.status.idle": "2021-09-21T04:16:52.809529Z",
     "shell.execute_reply": "2021-09-21T04:16:52.808281Z",
     "shell.execute_reply.started": "2021-09-21T04:16:50.640517Z"
    }
   },
   "outputs": [],
   "source": [
    "final_pred = pd.DataFrame(clf.predict_proba(np.array(finalTest)))\n",
    "dfSub = pd.concat([test_member_id, final_pred.iloc[:, 1:2]], axis=1)\n",
    "dfSub.rename(columns={1:'loan_status'}, inplace=True)\n",
    "dfSub.to_csv((('%s.csv') % (submission_file_name)), index=False)\n",
    "\n"
   ]
  },
  {
   "cell_type": "code",
   "execution_count": null,
   "metadata": {},
   "outputs": [],
   "source": []
  }
 ],
 "metadata": {
  "kernelspec": {
   "display_name": "Python 3",
   "language": "python",
   "name": "python3"
  },
  "language_info": {
   "codemirror_mode": {
    "name": "ipython",
    "version": 3
   },
   "file_extension": ".py",
   "mimetype": "text/x-python",
   "name": "python",
   "nbconvert_exporter": "python",
   "pygments_lexer": "ipython3",
   "version": "3.8.10"
  }
 },
 "nbformat": 4,
 "nbformat_minor": 4
}
